{
 "cells": [
  {
   "cell_type": "markdown",
   "id": "81bac568-98d1-4eca-88dc-8e8f78e67a02",
   "metadata": {
    "tags": []
   },
   "source": [
    "<img src=\"images/bwHPC_Logo_cmyk.svg\" width=\"200\" /> <img src=\"images/HochschuleEsslingen_Logo_RGB_DE.png\" width=\"200\" /> <img src=\"images/Konstanz_Logo.svg\" width=\"200\" /> <img src=\"images/KIT_Logo.png\" width=\"200\" />"
   ]
  },
  {
   "cell_type": "markdown",
   "id": "a5d9efd3-8928-479e-a089-85ff1e78fd7e",
   "metadata": {},
   "source": [
    "## Numpy"
   ]
  },
  {
   "cell_type": "markdown",
   "id": "23594ec5-5da2-4715-a20e-0b82250df379",
   "metadata": {},
   "source": [
    "### Was ist NumPy?\n",
    "* Python-Interpeter führt Operationen als Bytecode aus --> Langsam\n",
    "* NumPy ist in C geschrieben --> Schnell \n",
    "* Erstellen von N-dimensionalen Arrays (1D, 2D, 3D, ..., n-D)\n",
    "* Eingebaute Funktionen für lineare Algebra, Trigonometrie, Zufallszahlen, ....\n",
    "* Fast jede der folgenden Libraries ist auf NumPy aufgebaut\n",
    "* Wichtig: NumPy muss gegen numerische Bibliothek gelinkt sein um volle Thread-Parallelisierung zu gewährleisten."
   ]
  },
  {
   "cell_type": "markdown",
   "id": "0d6333ef-c1d0-47c6-880d-e04c805d59b6",
   "metadata": {},
   "source": [
    "### Erstellen von NumPy Arrays\n",
    "\n"
   ]
  },
  {
   "cell_type": "markdown",
   "id": "56748565-25b2-45d9-a352-0bcaa3008824",
   "metadata": {},
   "source": [
    "#### Transformieren einer Python-Liste zu einem NumPy Array:"
   ]
  },
  {
   "cell_type": "code",
   "execution_count": null,
   "id": "3b138258-9306-416e-875f-fa51d44e3a59",
   "metadata": {},
   "outputs": [],
   "source": [
    "import numpy as np\n",
    "a_list = [1,2,3] ## Erstellen einer Python-Liste\n",
    "print(type(a_list)) ## Ausgabe des Typs"
   ]
  },
  {
   "cell_type": "code",
   "execution_count": null,
   "id": "dc96691a-2716-4eb3-b07b-00056ac87fb4",
   "metadata": {},
   "outputs": [],
   "source": [
    "import numpy as np\n",
    "a_list = [1,2,3]\n",
    "np.array(a_list) ##Umwandeln der Liste in ein NumPy-Array"
   ]
  },
  {
   "cell_type": "code",
   "execution_count": null,
   "id": "7ae8ee8a-5a06-46de-beac-3f3a8740d4a5",
   "metadata": {},
   "outputs": [],
   "source": [
    "import numpy as np\n",
    "a_list = [1,2,3]\n",
    "a_list"
   ]
  },
  {
   "cell_type": "code",
   "execution_count": null,
   "id": "5a09d126-cb85-4a5b-891a-1b62495b70e5",
   "metadata": {},
   "outputs": [],
   "source": [
    "import numpy as np\n",
    "a_list = [1,2,3]\n",
    "array = np.array(a_list)\n",
    "print(type(array)) ## Typ ist nun NumPy-Array\n",
    "array"
   ]
  },
  {
   "cell_type": "markdown",
   "id": "7ac3c4d2-d0c5-4506-831f-81d2e919a5b6",
   "metadata": {},
   "source": [
    "#### Verschachtelte Listen:"
   ]
  },
  {
   "cell_type": "code",
   "execution_count": null,
   "id": "02b3ac23-48e4-42f7-b3d4-6c85dc7d884d",
   "metadata": {},
   "outputs": [],
   "source": [
    "import numpy as np\n",
    "matrix = [[1,2,3],[4,5,6],[7,8,9]]\n",
    "matrix"
   ]
  },
  {
   "cell_type": "code",
   "execution_count": null,
   "id": "2a3df331-f642-43a8-ace2-4e26f090123c",
   "metadata": {},
   "outputs": [],
   "source": [
    "import numpy as np\n",
    "np.array(matrix) ## Umwandeln der Liste in ein NumPy-Array"
   ]
  },
  {
   "cell_type": "markdown",
   "id": "1aac9a77-60c7-46be-b335-5a0a8d4d06e1",
   "metadata": {},
   "source": [
    "NumPy erkennt 2D Array automatisch."
   ]
  },
  {
   "cell_type": "markdown",
   "id": "24646411-15be-4976-9666-0beb83c556c7",
   "metadata": {},
   "source": [
    "#### Erstellen eines neuen NumPy-Arrays:"
   ]
  },
  {
   "cell_type": "code",
   "execution_count": null,
   "id": "dcc6c2c0-9586-438e-b73c-7af85582e184",
   "metadata": {},
   "outputs": [],
   "source": [
    "import numpy as np\n",
    "np.arange(0, 50, 2) ## Start=0; Ende=50(nicht inkludiert); Stepsize"
   ]
  },
  {
   "cell_type": "code",
   "execution_count": null,
   "id": "9651b341-18c7-458d-9364-fcc43aacd0b6",
   "metadata": {},
   "outputs": [],
   "source": [
    "import numpy as np\n",
    "np.zeros(5) ## 1D-Array mit 0en generieren\n",
    "## Standard ist float"
   ]
  },
  {
   "cell_type": "code",
   "execution_count": null,
   "id": "99e54d08-0189-4667-963a-da44822f240b",
   "metadata": {},
   "outputs": [],
   "source": [
    "import numpy as np\n",
    "np.zeros((6, 6)) ## Jeweile 6 Zeilen und Spalten"
   ]
  },
  {
   "cell_type": "code",
   "execution_count": null,
   "id": "b6628cdf-d5b3-4208-b7e8-3d7533d717fc",
   "metadata": {},
   "outputs": [],
   "source": [
    "import numpy as np\n",
    "np.zeros((2, 5)) ## 2 Zeilen und 5 Spalten"
   ]
  },
  {
   "cell_type": "code",
   "execution_count": null,
   "id": "bfe0b6fb-0761-480c-9f19-52293e194605",
   "metadata": {},
   "outputs": [],
   "source": [
    "import numpy as np\n",
    "np.ones(7)"
   ]
  },
  {
   "cell_type": "markdown",
   "id": "f76cde62-b7f3-40f3-b4a1-2022514d1045",
   "metadata": {},
   "source": [
    "---\n",
    "3 Zahlen zwischen 0 und 12 mit gleichem Abstand:"
   ]
  },
  {
   "cell_type": "code",
   "execution_count": null,
   "id": "877d808f-7540-4963-a4d9-e1fd2448471c",
   "metadata": {},
   "outputs": [],
   "source": [
    "import numpy as np\n",
    "np.linspace(0,12,3) ## Start=0; Ende=12(inkludiert);\n",
    "## num=3 (Anzahl der Zahlen mit gleichem Abstand voneinander)"
   ]
  },
  {
   "cell_type": "markdown",
   "id": "8775d8e7-035e-4578-b40f-f69b28462805",
   "metadata": {},
   "source": [
    "10 Zahlen zwischen 0 und 14 mit gleichem Abstand"
   ]
  },
  {
   "cell_type": "code",
   "execution_count": null,
   "id": "4039eafe-b943-49cb-905b-aa9810eabda1",
   "metadata": {},
   "outputs": [],
   "source": [
    "import numpy as np\n",
    "np.linspace(0,14,10)"
   ]
  },
  {
   "cell_type": "markdown",
   "id": "5f0ec743-017b-4cd8-a70d-5d203c330e10",
   "metadata": {},
   "source": [
    "---\n",
    "Einheitsmatrix:"
   ]
  },
  {
   "cell_type": "code",
   "execution_count": null,
   "id": "c7164948-fd34-4d7d-8308-f31f1122f63e",
   "metadata": {},
   "outputs": [],
   "source": [
    "import numpy as np\n",
    "np.eye(4)"
   ]
  },
  {
   "cell_type": "markdown",
   "id": "3717dbf0-75a6-4215-ba9a-9474e6c704b3",
   "metadata": {},
   "source": [
    "---\n",
    "Zufallsmatrizen:\n",
    "\n"
   ]
  },
  {
   "cell_type": "code",
   "execution_count": null,
   "id": "11d0a81c-4403-4306-b146-644db385ce40",
   "metadata": {},
   "outputs": [],
   "source": [
    "import numpy as np\n",
    "np.random.rand(2) ## Uniform Distribution [0,1):\n",
    "## Alle Zahlen zwischen 0 und 1 haben die gleiche Wahrscheinlichkeit\n",
    "## gewaehlt zu werden"
   ]
  },
  {
   "cell_type": "code",
   "execution_count": null,
   "id": "e0f11b68-059e-4199-869a-fd74c58b45a4",
   "metadata": {},
   "outputs": [],
   "source": [
    "import numpy as np\n",
    "np.random.rand(6,3)"
   ]
  },
  {
   "cell_type": "markdown",
   "id": "5f3e0894-397d-4bdd-9165-5ee54d083f80",
   "metadata": {},
   "source": [
    "---"
   ]
  },
  {
   "cell_type": "code",
   "execution_count": null,
   "id": "b8e082a9-4672-4251-9724-ec454094e23f",
   "metadata": {},
   "outputs": [],
   "source": [
    "import numpy as np\n",
    "np.random.randn(4,4) ## Standardnormalverteilung: Median ist 0 und\n",
    "## Varianz ist 1 --> Zahlen nah bei 0 haben höhere Wahrscheinlichkeit"
   ]
  },
  {
   "cell_type": "markdown",
   "id": "702a673a-7c9e-4175-b95e-41f12f939024",
   "metadata": {},
   "source": [
    "---"
   ]
  },
  {
   "cell_type": "code",
   "execution_count": null,
   "id": "f718095d-e576-4065-8a4f-0b42d499b65a",
   "metadata": {},
   "outputs": [],
   "source": [
    "import numpy as np\n",
    "np.random.randint(40,50,(4,5)) ##low=40 (inclusive);\n",
    "## high=50 (exklusiv); size=(6,4)"
   ]
  },
  {
   "cell_type": "markdown",
   "id": "7939ffad-16c8-47d7-af0e-b00721ddeaab",
   "metadata": {},
   "source": [
    "---\n",
    "Reproduzierbare Zufallszahlen:"
   ]
  },
  {
   "cell_type": "code",
   "execution_count": null,
   "id": "65fb5101-e2e8-4cf9-90f9-223043b02365",
   "metadata": {},
   "outputs": [],
   "source": [
    "import numpy as np\n",
    "np.random.seed(42) ## Seed legt einen Zustand fest\n",
    "np.random.rand(3)"
   ]
  },
  {
   "cell_type": "markdown",
   "id": "98b3e184-cd5b-43ac-9a47-e3b91df605e3",
   "metadata": {},
   "source": [
    "---\n",
    "Anordnung in NumPy-Array ändern (Reshaping):"
   ]
  },
  {
   "cell_type": "code",
   "execution_count": null,
   "id": "f451b7ab-f23e-44dd-89f1-08d394467551",
   "metadata": {},
   "outputs": [],
   "source": [
    "import numpy as np\n",
    "arr = np.arange(0,12)\n",
    "arr"
   ]
  },
  {
   "cell_type": "code",
   "execution_count": null,
   "id": "5d019ea4-6272-443f-b0e1-f1f39bb8433e",
   "metadata": {},
   "outputs": [],
   "source": [
    "import numpy as np\n",
    "arr = np.arange(0,12)\n",
    "arr.reshape(3,4)"
   ]
  },
  {
   "cell_type": "code",
   "execution_count": null,
   "id": "a910602d-d1fc-414a-a8cb-1212684b1f30",
   "metadata": {},
   "outputs": [],
   "source": [
    "import numpy as np\n",
    "arr = np.arange(0,36)\n",
    "arr.reshape(6,6)"
   ]
  },
  {
   "cell_type": "markdown",
   "id": "9b3ced51-a08f-4d6e-9221-308a2a1d5187",
   "metadata": {},
   "source": [
    "---\n",
    "Maxima und Minima finden:"
   ]
  },
  {
   "cell_type": "code",
   "execution_count": null,
   "id": "9e871e2a-468a-4131-a168-50c973fcf15d",
   "metadata": {},
   "outputs": [],
   "source": [
    "import numpy as np\n",
    "arr = np.random.randint(0,101,10)\n",
    "print(arr)\n",
    "print(arr.max()) ## Maximalen Wert in Array finden\n",
    "print(arr.argmax()) ## Index des maximalen Werts\n",
    "print(arr.min())\n",
    "print(arr.dtype) ## Datentyp des Arrays ausgeben"
   ]
  },
  {
   "cell_type": "markdown",
   "id": "84a31f01-0c49-4b8d-af84-8871c196b17f",
   "metadata": {},
   "source": [
    "### Elemente auswählen"
   ]
  },
  {
   "cell_type": "code",
   "execution_count": null,
   "id": "76b6545f-2595-43f6-8394-d34e5d16480c",
   "metadata": {},
   "outputs": [],
   "source": [
    "import numpy as np\n",
    "arr = np.arange(0,15)\n",
    "\n",
    "print(arr)\n",
    "\n",
    "print(arr[4]) ## Auswahl eines einzelnen Werts\n",
    "\n",
    "print(arr[3:5]) ## Auswhahl in einem Bereich\n",
    "## start=3 (inkludiert); stop=5 (nicht inkludiert)\n",
    "\n",
    "print(arr[0:3])\n",
    "\n",
    "print(arr[:3]) ## Am Anfang starten bis zu Index 3 (nicht inkludiert)\n",
    "\n",
    "print(arr[5:]) ## Von Index 5 bis zum Ende"
   ]
  },
  {
   "cell_type": "markdown",
   "id": "746d6a39-e87e-41ec-ae7a-008feea5e7a2",
   "metadata": {},
   "source": [
    "---\n",
    "Broadcasting:\n",
    "* Nicht möglich mit Standard Python Listen"
   ]
  },
  {
   "cell_type": "code",
   "execution_count": null,
   "id": "9e65fb0a-499e-4096-8a9b-c7f180458a9f",
   "metadata": {},
   "outputs": [],
   "source": [
    "import numpy as np\n",
    "arr = np.arange(0,15)\n",
    "\n",
    "print(arr)\n",
    "\n",
    "arr[0:5] = 100\n",
    "print(arr)\n",
    "\n",
    "arr = list(range(0,15))\n",
    "print(arr)\n",
    "# arr[0:5] = 100 # ergibt einen Fehler: TypeError: can only assign an iterable\n",
    "arr[0:5] = [100] * 5 # Alternative für Standard Listen\n",
    "print(arr)"
   ]
  },
  {
   "cell_type": "markdown",
   "id": "e509f575-8c65-4420-a0d7-ab1e741d303b",
   "metadata": {},
   "source": [
    "---\n",
    "Ausschneiden eines Arrays:"
   ]
  },
  {
   "cell_type": "code",
   "execution_count": null,
   "id": "733b9684-fe9f-42a5-9701-8a3019b667f2",
   "metadata": {},
   "outputs": [],
   "source": [
    "import numpy as np\n",
    "arr = np.arange(0,13)\n",
    "print(arr)\n",
    "\n",
    "part = arr[0:5]\n",
    "print(part)\n",
    "\n",
    "part[:] = 42\n",
    "print(part)\n",
    "\n",
    "print(arr) ## Original arr wurde durch Broadcast von\n",
    "## part überschrieben --> Pointer\n",
    "\n",
    "copy = arr.copy() ## copy() kann hier Abhilfe beschaffen\n",
    "copy[:] = 100\n",
    "print(copy)\n",
    "print(arr)"
   ]
  },
  {
   "cell_type": "markdown",
   "id": "ac951b1e-a799-4ba8-ae13-2b38384a2580",
   "metadata": {},
   "source": [
    "---\n",
    "Arrays mit mehreren Dimensionen:\n"
   ]
  },
  {
   "cell_type": "code",
   "execution_count": null,
   "id": "d393b1b5-be0c-4759-9051-6005d12f4de0",
   "metadata": {},
   "outputs": [],
   "source": [
    "import numpy as np\n",
    "array2d = np.array([[1,2,3],[20,5,6],[8,4,3]])\n",
    "print(array2d)\n",
    "\n",
    "print(array2d.shape)\n",
    "\n",
    "print(array2d[2]) ## Zeile mit Index 2 ausgeben\n",
    "\n",
    "print(array2d[1][1]) ## Element an Index (1,1) ausgeben\n",
    "\n",
    "print(array2d[:2]) ## Alle Zeilen bis Index 1 ausgeben\n",
    "## Wichtig: Auf Notation achten --> \"2\" ist nicht inkludiert\n",
    "\n",
    "print(array2d[1:3,1:]) ## Zeilen von Index 1 bis Index 2\n",
    "## und Spalten von 1 bis Ende"
   ]
  },
  {
   "cell_type": "markdown",
   "id": "df4ce1e1-cf0b-4737-aa7a-0fe8de410067",
   "metadata": {},
   "source": [
    "---\n",
    "Selektieren mit Boolean Arrays"
   ]
  },
  {
   "cell_type": "code",
   "execution_count": null,
   "id": "326ac344-a125-4e0a-a67d-d5829d73a6f4",
   "metadata": {},
   "outputs": [],
   "source": [
    "import numpy as np\n",
    "arr = np.arange(1,11)\n",
    "print(arr)\n",
    "\n",
    "bool_arr = arr < 4\n",
    "print(bool_arr)\n",
    "\n",
    "print(arr[bool_arr])\n",
    "\n",
    "print(arr[arr < 4]) ## Alternativer Aufruf in einer Zeile"
   ]
  },
  {
   "cell_type": "code",
   "execution_count": null,
   "id": "b95b30aa-3bb1-450b-a14f-4284aa355802",
   "metadata": {},
   "outputs": [],
   "source": [
    "import numpy as np\n",
    "arr = np.arange(1,11)\n",
    "print(arr)\n",
    "\n",
    "bool_arr = arr > 5\n",
    "print(bool_arr)\n",
    "\n",
    "print(arr[bool_arr])\n",
    "\n",
    "print(arr[arr > 5]) ## Alternativer Aufruf in einer Zeile"
   ]
  },
  {
   "cell_type": "markdown",
   "id": "a7a46b35-6b9c-41ae-abdc-4e559beed67a",
   "metadata": {},
   "source": [
    "### Operationen auf NumPy-Arrays"
   ]
  },
  {
   "cell_type": "code",
   "execution_count": null,
   "id": "ecedab3d-4cd3-4766-b50f-ba7eba349c72",
   "metadata": {},
   "outputs": [],
   "source": [
    "import numpy as np\n",
    "arr = np.arange(3,12)\n",
    "print(arr)\n",
    "\n",
    "print(arr + 5)\n",
    "print(arr)"
   ]
  },
  {
   "cell_type": "code",
   "execution_count": null,
   "id": "e551e592-395f-442d-9d58-10552b0b48c8",
   "metadata": {},
   "outputs": [],
   "source": [
    "import numpy as np\n",
    "arr = np.arange(3,12)\n",
    "print(arr)\n",
    "\n",
    "print(arr - 2)\n",
    "print(arr)"
   ]
  },
  {
   "cell_type": "code",
   "execution_count": null,
   "id": "b9b805e0-aa66-48a2-b1f7-95614485f6a3",
   "metadata": {},
   "outputs": [],
   "source": [
    "import numpy as np\n",
    "arr = np.arange(3,12)\n",
    "print(arr)\n",
    "\n",
    "print(arr + arr)\n",
    "print(arr)"
   ]
  },
  {
   "cell_type": "code",
   "execution_count": null,
   "id": "af79ea87-ab34-4048-86af-c7499f0f89da",
   "metadata": {},
   "outputs": [],
   "source": [
    "import numpy as np\n",
    "arr = np.arange(3,12)\n",
    "print(arr)\n",
    "\n",
    "arr * arr"
   ]
  },
  {
   "cell_type": "code",
   "execution_count": null,
   "id": "34934fb0-4150-413d-b5bf-e95ab89a5a45",
   "metadata": {},
   "outputs": [],
   "source": [
    "import numpy as np\n",
    "arr = np.arange(3,12)\n",
    "print(arr)\n",
    "arr2 = np.arange(2,11)\n",
    "print(arr2)\n",
    "\n",
    "arr / arr2"
   ]
  },
  {
   "cell_type": "code",
   "execution_count": null,
   "id": "d7f09b99-2a91-4622-a8e0-a2b1175452f3",
   "metadata": {},
   "outputs": [],
   "source": [
    "import numpy as np\n",
    "arr = np.arange(3,12)\n",
    "print(arr)\n",
    "\n",
    "np.sqrt(arr) ##Quadratwurzel aus jedem Wert ziehen"
   ]
  },
  {
   "cell_type": "code",
   "execution_count": null,
   "id": "c338c49e-4679-4309-9160-ea733fbac5f0",
   "metadata": {},
   "outputs": [],
   "source": [
    "import numpy as np\n",
    "arr = np.arange(3,12)\n",
    "print(arr)\n",
    "\n",
    "np.sin(arr)"
   ]
  },
  {
   "cell_type": "code",
   "execution_count": null,
   "id": "582e0c91-6527-4b83-8455-61dcb31094b1",
   "metadata": {},
   "outputs": [],
   "source": [
    "import numpy as np\n",
    "arr = np.arange(3,12)\n",
    "print(arr)\n",
    "\n",
    "arr.sum()"
   ]
  },
  {
   "cell_type": "code",
   "execution_count": null,
   "id": "372f1ca8-5495-441f-8343-99a18a339565",
   "metadata": {},
   "outputs": [],
   "source": [
    "import numpy as np\n",
    "arr = np.arange(3,12)\n",
    "print(arr)\n",
    "\n",
    "arr.max()"
   ]
  },
  {
   "cell_type": "code",
   "execution_count": null,
   "id": "dc543aff-bfd8-46a4-8ff9-54af12c32216",
   "metadata": {},
   "outputs": [],
   "source": []
  }
 ],
 "metadata": {
  "kernelspec": {
   "display_name": "python_workshop_env",
   "language": "python",
   "name": "python_workshop_env"
  },
  "language_info": {
   "codemirror_mode": {
    "name": "ipython",
    "version": 3
   },
   "file_extension": ".py",
   "mimetype": "text/x-python",
   "name": "python",
   "nbconvert_exporter": "python",
   "pygments_lexer": "ipython3",
   "version": "3.7.11"
  }
 },
 "nbformat": 4,
 "nbformat_minor": 5
}
