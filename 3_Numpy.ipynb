{
 "cells": [
  {
   "cell_type": "markdown",
   "id": "3a6dbe35-a6f9-4577-8505-b98584022b20",
   "metadata": {},
   "source": [
    "## Numpy\n"
   ]
  },
  {
   "cell_type": "markdown",
   "id": "23594ec5-5da2-4715-a20e-0b82250df379",
   "metadata": {},
   "source": [
    "### Was ist NumPy?\n",
    "* Python-Interpeter führt Operationen als Bytecode aus --> Langsam\n",
    "* NumPy ist in C geschrieben --> Schnell \n",
    "* Erstellen von N-dimensionalen Arrays (1D, 2D, 3D, ..., n-D)\n",
    "* Eingebaute Funktionen für lineare Algebra, Trigonometrie, Zufallszahlen, ....\n",
    "* Fast jede der folgenden Libraries ist auf NumPy aufgebaut\n",
    "* Wichtig: NumPy muss gegen numerische Bibliothek gelinkt sein um volle Thread-Parallelisierung zu gewährleisten."
   ]
  },
  {
   "cell_type": "markdown",
   "id": "0d6333ef-c1d0-47c6-880d-e04c805d59b6",
   "metadata": {},
   "source": [
    "### Erstellen von NumPy Arrays\n",
    "\n"
   ]
  },
  {
   "cell_type": "markdown",
   "id": "56748565-25b2-45d9-a352-0bcaa3008824",
   "metadata": {},
   "source": [
    "#### Transformieren einer Python-Liste zu einem NumPy Array:"
   ]
  },
  {
   "cell_type": "code",
   "execution_count": null,
   "id": "3b138258-9306-416e-875f-fa51d44e3a59",
   "metadata": {},
   "outputs": [],
   "source": [
    "import numpy as np\n",
    "list = [1,2,3] ## Erstellen einer Python-Liste\n",
    "type(list) ## Ausgabe des Typs"
   ]
  },
  {
   "cell_type": "code",
   "execution_count": null,
   "id": "dc96691a-2716-4eb3-b07b-00056ac87fb4",
   "metadata": {},
   "outputs": [],
   "source": [
    "np.array(list) ##Umwandeln der Liste in ein NumPy-Array"
   ]
  },
  {
   "cell_type": "code",
   "execution_count": null,
   "id": "7ae8ee8a-5a06-46de-beac-3f3a8740d4a5",
   "metadata": {},
   "outputs": [],
   "source": [
    "list"
   ]
  },
  {
   "cell_type": "code",
   "execution_count": null,
   "id": "5a09d126-cb85-4a5b-891a-1b62495b70e5",
   "metadata": {},
   "outputs": [],
   "source": [
    "array = np.array(list)\n",
    "type(array) ## Typ ist nun NumPy-Array\n",
    "array"
   ]
  },
  {
   "cell_type": "markdown",
   "id": "7ac3c4d2-d0c5-4506-831f-81d2e919a5b6",
   "metadata": {},
   "source": [
    "#### Verschachtelte Listen:"
   ]
  },
  {
   "cell_type": "code",
   "execution_count": null,
   "id": "02b3ac23-48e4-42f7-b3d4-6c85dc7d884d",
   "metadata": {},
   "outputs": [],
   "source": [
    "matrix = [[1,2,3],[4,5,6],[7,8,9]]\n",
    "matrix"
   ]
  },
  {
   "cell_type": "code",
   "execution_count": null,
   "id": "2a3df331-f642-43a8-ace2-4e26f090123c",
   "metadata": {},
   "outputs": [],
   "source": [
    "np.array(matrix) ## Umwandeln der Liste in ein NumPy-Array"
   ]
  },
  {
   "cell_type": "markdown",
   "id": "1aac9a77-60c7-46be-b335-5a0a8d4d06e1",
   "metadata": {},
   "source": [
    "NumPy erkennt 2D Array automatisch."
   ]
  },
  {
   "cell_type": "markdown",
   "id": "24646411-15be-4976-9666-0beb83c556c7",
   "metadata": {},
   "source": [
    "#### Erstellen eines neuen NumPy-Arrays:"
   ]
  },
  {
   "cell_type": "code",
   "execution_count": null,
   "id": "dcc6c2c0-9586-438e-b73c-7af85582e184",
   "metadata": {},
   "outputs": [],
   "source": [
    "np.arange(0,50,2) ## Start=0; Ende=50(nicht inkludiert); Stepsize"
   ]
  },
  {
   "cell_type": "code",
   "execution_count": null,
   "id": "9651b341-18c7-458d-9364-fcc43aacd0b6",
   "metadata": {},
   "outputs": [],
   "source": [
    "np.zeros(5) ## 1D-Array mit 0en generieren\n",
    "## Standard ist float"
   ]
  },
  {
   "cell_type": "code",
   "execution_count": null,
   "id": "99e54d08-0189-4667-963a-da44822f240b",
   "metadata": {},
   "outputs": [],
   "source": [
    "np.zeros((6,6)) ## Jeweile 6 Zeilen und Spalten"
   ]
  },
  {
   "cell_type": "code",
   "execution_count": null,
   "id": "b6628cdf-d5b3-4208-b7e8-3d7533d717fc",
   "metadata": {},
   "outputs": [],
   "source": [
    "np.zeros((2,5)) ## 2 Zeilen und 5 Spalten"
   ]
  },
  {
   "cell_type": "code",
   "execution_count": null,
   "id": "bfe0b6fb-0761-480c-9f19-52293e194605",
   "metadata": {},
   "outputs": [],
   "source": [
    "np.ones(7)"
   ]
  },
  {
   "cell_type": "markdown",
   "id": "f76cde62-b7f3-40f3-b4a1-2022514d1045",
   "metadata": {},
   "source": [
    "---\n",
    "3 Zahlen zwischen 0 und 10 mit gleichem Abstand:"
   ]
  },
  {
   "cell_type": "code",
   "execution_count": null,
   "id": "877d808f-7540-4963-a4d9-e1fd2448471c",
   "metadata": {},
   "outputs": [],
   "source": [
    "np.linspace(0,12,3) ## Start=0; Ende=12(inkludiert);\n",
    "## num=3 (Anzahl der Zahlen mit gleichem Abstand voneinander)"
   ]
  },
  {
   "cell_type": "code",
   "execution_count": null,
   "id": "4039eafe-b943-49cb-905b-aa9810eabda1",
   "metadata": {},
   "outputs": [],
   "source": [
    "np.linspace(0,14,15)"
   ]
  },
  {
   "cell_type": "markdown",
   "id": "5f0ec743-017b-4cd8-a70d-5d203c330e10",
   "metadata": {},
   "source": [
    "---\n",
    "Einheitsmatrix:"
   ]
  },
  {
   "cell_type": "code",
   "execution_count": null,
   "id": "c7164948-fd34-4d7d-8308-f31f1122f63e",
   "metadata": {},
   "outputs": [],
   "source": [
    "np.eye(4)"
   ]
  },
  {
   "cell_type": "markdown",
   "id": "3717dbf0-75a6-4215-ba9a-9474e6c704b3",
   "metadata": {},
   "source": [
    "---\n",
    "Zufallsmatrizen:\n",
    "\n"
   ]
  },
  {
   "cell_type": "code",
   "execution_count": null,
   "id": "11d0a81c-4403-4306-b146-644db385ce40",
   "metadata": {},
   "outputs": [],
   "source": [
    "np.random.rand(2) ## Uniform Distribution [0,1):\n",
    "## Alle Zahlen zwischen 0 und 1 haben die gleiche Wahrscheinlichkeit\n",
    "## gewaehlt zu werden"
   ]
  },
  {
   "cell_type": "code",
   "execution_count": null,
   "id": "e0f11b68-059e-4199-869a-fd74c58b45a4",
   "metadata": {},
   "outputs": [],
   "source": [
    "np.random.rand(6,3)"
   ]
  },
  {
   "cell_type": "markdown",
   "id": "5f3e0894-397d-4bdd-9165-5ee54d083f80",
   "metadata": {},
   "source": [
    "---"
   ]
  },
  {
   "cell_type": "code",
   "execution_count": null,
   "id": "b8e082a9-4672-4251-9724-ec454094e23f",
   "metadata": {},
   "outputs": [],
   "source": [
    "np.random.randn(4,4) ## Standardnormalverteilung: Median ist 0 und\n",
    "## Varianz ist 1 --> Zahlen nah bei 0 haben höhere Wahrscheinlichkeit"
   ]
  },
  {
   "cell_type": "markdown",
   "id": "702a673a-7c9e-4175-b95e-41f12f939024",
   "metadata": {},
   "source": [
    "---"
   ]
  },
  {
   "cell_type": "code",
   "execution_count": null,
   "id": "f718095d-e576-4065-8a4f-0b42d499b65a",
   "metadata": {},
   "outputs": [],
   "source": [
    "np.random.randint(40,50,(4,5)) ##low=40 (inclusive);\n",
    "## high=50 (exklusiv); size=(6,4)"
   ]
  },
  {
   "cell_type": "markdown",
   "id": "7939ffad-16c8-47d7-af0e-b00721ddeaab",
   "metadata": {},
   "source": [
    "---\n",
    "Reproduzierbare Zufallszahlen:"
   ]
  },
  {
   "cell_type": "code",
   "execution_count": null,
   "id": "65fb5101-e2e8-4cf9-90f9-223043b02365",
   "metadata": {},
   "outputs": [],
   "source": [
    "np.random.seed(42) ## Seed legt einen Zustand fest\n",
    "np.random.rand(3)"
   ]
  },
  {
   "cell_type": "markdown",
   "id": "98b3e184-cd5b-43ac-9a47-e3b91df605e3",
   "metadata": {},
   "source": [
    "---\n",
    "Anordnung in NumPy-Array ändern (Reshaping):"
   ]
  },
  {
   "cell_type": "code",
   "execution_count": null,
   "id": "f451b7ab-f23e-44dd-89f1-08d394467551",
   "metadata": {},
   "outputs": [],
   "source": [
    "arr = np.arange(0,36)\n",
    "arr"
   ]
  },
  {
   "cell_type": "code",
   "execution_count": null,
   "id": "5d019ea4-6272-443f-b0e1-f1f39bb8433e",
   "metadata": {},
   "outputs": [],
   "source": [
    "arr.reshape(3,4)"
   ]
  },
  {
   "cell_type": "code",
   "execution_count": null,
   "id": "a910602d-d1fc-414a-a8cb-1212684b1f30",
   "metadata": {},
   "outputs": [],
   "source": [
    "arr.reshape(6,6)"
   ]
  },
  {
   "cell_type": "markdown",
   "id": "9b3ced51-a08f-4d6e-9221-308a2a1d5187",
   "metadata": {},
   "source": [
    "---\n",
    "Maxima und Minima finden:"
   ]
  },
  {
   "cell_type": "code",
   "execution_count": null,
   "id": "9e871e2a-468a-4131-a168-50c973fcf15d",
   "metadata": {},
   "outputs": [],
   "source": [
    "arr = np.random.randint(0,101,10)"
   ]
  },
  {
   "cell_type": "code",
   "execution_count": null,
   "id": "5504e451-0a86-49f6-ac48-31f187ca4c10",
   "metadata": {},
   "outputs": [],
   "source": [
    "arr"
   ]
  },
  {
   "cell_type": "code",
   "execution_count": null,
   "id": "720eaca7-eac5-473d-a0ef-71ab2d6da45f",
   "metadata": {},
   "outputs": [],
   "source": [
    "arr.max() ## Maximalen Wert in Array finden"
   ]
  },
  {
   "cell_type": "code",
   "execution_count": null,
   "id": "b7d5efcc-19b7-46ec-9f6b-8d262edfd907",
   "metadata": {},
   "outputs": [],
   "source": [
    "arr.argmax() ## Index des maximalen Werts"
   ]
  },
  {
   "cell_type": "code",
   "execution_count": null,
   "id": "615fe17f-07f5-4de6-9b22-4092d67f8473",
   "metadata": {},
   "outputs": [],
   "source": [
    "arr.min()"
   ]
  },
  {
   "cell_type": "code",
   "execution_count": null,
   "id": "d2f993dd-e3a6-43fe-82e4-779b70297966",
   "metadata": {},
   "outputs": [],
   "source": [
    "arr.dtype ## Datentyp des Arrays ausgeben"
   ]
  },
  {
   "cell_type": "markdown",
   "id": "84a31f01-0c49-4b8d-af84-8871c196b17f",
   "metadata": {},
   "source": [
    "### Elemente auswählen"
   ]
  },
  {
   "cell_type": "code",
   "execution_count": null,
   "id": "76b6545f-2595-43f6-8394-d34e5d16480c",
   "metadata": {},
   "outputs": [],
   "source": [
    "arr = np.arange(0,15)\n",
    "arr"
   ]
  },
  {
   "cell_type": "code",
   "execution_count": null,
   "id": "e9daed5b-1b55-4ce3-b052-339a8b9dbdf1",
   "metadata": {},
   "outputs": [],
   "source": [
    "arr[4] ## Auswahl eines einzelnen Werts"
   ]
  },
  {
   "cell_type": "code",
   "execution_count": null,
   "id": "992a8bab-2591-4e53-8d7b-95b47a1f7f2b",
   "metadata": {},
   "outputs": [],
   "source": [
    "arr[3:5] ## Auswhahl in einem Bereich\n",
    "## start=3 (inkludiert); stop=5 (nicht inkludiert)"
   ]
  },
  {
   "cell_type": "code",
   "execution_count": null,
   "id": "f04309a3-1ac1-45bf-89a3-ec255eb03e08",
   "metadata": {},
   "outputs": [],
   "source": [
    "arr[0:3]"
   ]
  },
  {
   "cell_type": "code",
   "execution_count": null,
   "id": "fc8f386e-4bd3-49a9-b51b-76fa1680a664",
   "metadata": {},
   "outputs": [],
   "source": [
    "arr[:3] ## Am Anfang starten bis zu Index 3 (nicht inkludiert)"
   ]
  },
  {
   "cell_type": "code",
   "execution_count": null,
   "id": "eea2e16a-221f-421d-830f-de3d9aafc1b8",
   "metadata": {},
   "outputs": [],
   "source": [
    "arr[5:] ## Von Index 5 bis zum Ende"
   ]
  },
  {
   "cell_type": "markdown",
   "id": "746d6a39-e87e-41ec-ae7a-008feea5e7a2",
   "metadata": {},
   "source": [
    "---\n",
    "Broadcasting:\n",
    "* Nicht möglich mit Standard Python Listen"
   ]
  },
  {
   "cell_type": "code",
   "execution_count": null,
   "id": "9e65fb0a-499e-4096-8a9b-c7f180458a9f",
   "metadata": {},
   "outputs": [],
   "source": [
    "arr"
   ]
  },
  {
   "cell_type": "code",
   "execution_count": null,
   "id": "5da9c4f9-2045-4ca2-b8e8-b7d6d7535e1b",
   "metadata": {},
   "outputs": [],
   "source": [
    "arr[0:5] = 100\n",
    "arr"
   ]
  },
  {
   "cell_type": "markdown",
   "id": "e509f575-8c65-4420-a0d7-ab1e741d303b",
   "metadata": {},
   "source": [
    "---\n",
    "Ausschneiden eines Arrays:"
   ]
  },
  {
   "cell_type": "code",
   "execution_count": null,
   "id": "733b9684-fe9f-42a5-9701-8a3019b667f2",
   "metadata": {},
   "outputs": [],
   "source": [
    "arr = np.arange(0,13)\n",
    "arr"
   ]
  },
  {
   "cell_type": "code",
   "execution_count": null,
   "id": "b9a10152-192f-4df7-903c-bfe967b7c55b",
   "metadata": {},
   "outputs": [],
   "source": [
    "part = arr[0:5]\n",
    "part"
   ]
  },
  {
   "cell_type": "code",
   "execution_count": null,
   "id": "212e7158-08dd-4106-8008-bdf52339d694",
   "metadata": {},
   "outputs": [],
   "source": [
    "part[:] = 42\n",
    "part"
   ]
  },
  {
   "cell_type": "code",
   "execution_count": null,
   "id": "92c1e70f-89bf-4871-812b-1cbde59a2fe9",
   "metadata": {},
   "outputs": [],
   "source": [
    "arr ## Original arr wurde durch Broadcast von\n",
    " ## part überschrieben --> Pointer"
   ]
  },
  {
   "cell_type": "code",
   "execution_count": null,
   "id": "4270bb14-f23d-40a8-a365-0c1bf075e38f",
   "metadata": {},
   "outputs": [],
   "source": [
    "copy = arr.copy() ## copy() kann hier Abhilfe beschaffen\n",
    "copy[:] = 100\n",
    "copy"
   ]
  },
  {
   "cell_type": "code",
   "execution_count": null,
   "id": "6eaf81ce-5ec6-4f9d-b35c-e19e96b58d95",
   "metadata": {},
   "outputs": [],
   "source": [
    "arr"
   ]
  },
  {
   "cell_type": "markdown",
   "id": "ac951b1e-a799-4ba8-ae13-2b38384a2580",
   "metadata": {},
   "source": [
    "---\n",
    "Arrays mit mehreren Dimensionen:\n"
   ]
  },
  {
   "cell_type": "code",
   "execution_count": null,
   "id": "d393b1b5-be0c-4759-9051-6005d12f4de0",
   "metadata": {},
   "outputs": [],
   "source": [
    "array2d = np.array([[1,2,3],[20,5,6],[8,4,3]])\n",
    "array2d"
   ]
  },
  {
   "cell_type": "code",
   "execution_count": null,
   "id": "5a45700e-1c03-4774-ae04-10d888328a4b",
   "metadata": {},
   "outputs": [],
   "source": [
    "array2d.shape"
   ]
  },
  {
   "cell_type": "code",
   "execution_count": null,
   "id": "db97191c-f118-47a1-adc8-013acb8b7d1f",
   "metadata": {},
   "outputs": [],
   "source": [
    "array2d[2] ## Zeile mit Index 2 ausgeben"
   ]
  },
  {
   "cell_type": "code",
   "execution_count": null,
   "id": "47cb60f7-9b4f-4571-856a-10c098106761",
   "metadata": {},
   "outputs": [],
   "source": [
    "array2d[1][1] ## Element an Index (1,1) ausgeben"
   ]
  },
  {
   "cell_type": "code",
   "execution_count": null,
   "id": "41ab3fb2-ee63-4351-bb38-c44e113746fe",
   "metadata": {},
   "outputs": [],
   "source": [
    "array2d[:2] ## Alle Zeilen bis Index 1 ausgeben\n",
    "## Wichtig: Auf Notation achten --> \"2\" ist nicht inkludiert"
   ]
  },
  {
   "cell_type": "code",
   "execution_count": null,
   "id": "288eb858-68c2-4797-bcc6-e835bc4c66b5",
   "metadata": {},
   "outputs": [],
   "source": [
    "array2d[1:3,1:] ## Zeilen von Index 1 bis Index 2\n",
    "## und Spalten von 1 bis Ende"
   ]
  },
  {
   "cell_type": "markdown",
   "id": "df4ce1e1-cf0b-4737-aa7a-0fe8de410067",
   "metadata": {},
   "source": [
    "---\n",
    "Selektieren mit Boolean Arrays"
   ]
  },
  {
   "cell_type": "code",
   "execution_count": null,
   "id": "326ac344-a125-4e0a-a67d-d5829d73a6f4",
   "metadata": {},
   "outputs": [],
   "source": [
    "arr = np.arange(1,11)\n",
    "arr"
   ]
  },
  {
   "cell_type": "code",
   "execution_count": null,
   "id": "b95b30aa-3bb1-450b-a14f-4284aa355802",
   "metadata": {},
   "outputs": [],
   "source": [
    "bool_arr = arr<4\n",
    "bool_arr"
   ]
  },
  {
   "cell_type": "code",
   "execution_count": null,
   "id": "c7980d69-c4f5-4c75-ad18-2072abf5fcc4",
   "metadata": {},
   "outputs": [],
   "source": [
    "arr[bool_arr]"
   ]
  },
  {
   "cell_type": "code",
   "execution_count": null,
   "id": "b94b7ffe-e1c2-405d-8170-0fcb8dd8408e",
   "metadata": {},
   "outputs": [],
   "source": [
    "arr[arr<4] ## Alternativer Aufruf"
   ]
  },
  {
   "cell_type": "markdown",
   "id": "a7a46b35-6b9c-41ae-abdc-4e559beed67a",
   "metadata": {},
   "source": [
    "### Operationen auf NumPy-Arrays"
   ]
  },
  {
   "cell_type": "code",
   "execution_count": null,
   "id": "36616cac-ba05-4b28-9771-18df09303818",
   "metadata": {},
   "outputs": [],
   "source": [
    "arr = np.arange(3,12)\n",
    "arr"
   ]
  },
  {
   "cell_type": "code",
   "execution_count": null,
   "id": "ecedab3d-4cd3-4766-b50f-ba7eba349c72",
   "metadata": {},
   "outputs": [],
   "source": [
    "arr + 5"
   ]
  },
  {
   "cell_type": "code",
   "execution_count": null,
   "id": "e551e592-395f-442d-9d58-10552b0b48c8",
   "metadata": {},
   "outputs": [],
   "source": [
    "arr - 2"
   ]
  },
  {
   "cell_type": "code",
   "execution_count": null,
   "id": "b9b805e0-aa66-48a2-b1f7-95614485f6a3",
   "metadata": {},
   "outputs": [],
   "source": [
    "arr + arr"
   ]
  },
  {
   "cell_type": "code",
   "execution_count": null,
   "id": "af79ea87-ab34-4048-86af-c7499f0f89da",
   "metadata": {},
   "outputs": [],
   "source": [
    "arr * arr"
   ]
  },
  {
   "cell_type": "code",
   "execution_count": null,
   "id": "43c14ef9-4a8c-45f4-a71e-475f9fd76c3c",
   "metadata": {},
   "outputs": [],
   "source": [
    "arr2 = np.arange(2,11)\n",
    "arr2"
   ]
  },
  {
   "cell_type": "code",
   "execution_count": null,
   "id": "34934fb0-4150-413d-b5bf-e95ab89a5a45",
   "metadata": {},
   "outputs": [],
   "source": [
    "arr / arr2"
   ]
  },
  {
   "cell_type": "code",
   "execution_count": null,
   "id": "d7f09b99-2a91-4622-a8e0-a2b1175452f3",
   "metadata": {},
   "outputs": [],
   "source": [
    "np.sqrt(arr) ##Quadratwurzel aus jedem Wert ziehen"
   ]
  },
  {
   "cell_type": "code",
   "execution_count": null,
   "id": "c338c49e-4679-4309-9160-ea733fbac5f0",
   "metadata": {},
   "outputs": [],
   "source": [
    "np.sin(arr)"
   ]
  },
  {
   "cell_type": "code",
   "execution_count": null,
   "id": "90c54a24-d83a-44b6-aa54-6744d754da27",
   "metadata": {},
   "outputs": [],
   "source": [
    "arr"
   ]
  },
  {
   "cell_type": "code",
   "execution_count": null,
   "id": "582e0c91-6527-4b83-8455-61dcb31094b1",
   "metadata": {},
   "outputs": [],
   "source": [
    "arr.sum()"
   ]
  },
  {
   "cell_type": "code",
   "execution_count": null,
   "id": "372f1ca8-5495-441f-8343-99a18a339565",
   "metadata": {},
   "outputs": [],
   "source": [
    "arr.max()"
   ]
  },
  {
   "cell_type": "code",
   "execution_count": null,
   "id": "dc543aff-bfd8-46a4-8ff9-54af12c32216",
   "metadata": {},
   "outputs": [],
   "source": []
  }
 ],
 "metadata": {
  "kernelspec": {
   "display_name": "Python 3 (ipykernel)",
   "language": "python",
   "name": "python3"
  },
  "language_info": {
   "codemirror_mode": {
    "name": "ipython",
    "version": 3
   },
   "file_extension": ".py",
   "mimetype": "text/x-python",
   "name": "python",
   "nbconvert_exporter": "python",
   "pygments_lexer": "ipython3",
   "version": "3.8.0"
  }
 },
 "nbformat": 4,
 "nbformat_minor": 5
}
