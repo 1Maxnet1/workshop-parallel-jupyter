{
 "cells": [
  {
   "cell_type": "markdown",
   "id": "88d36caf-03a3-4415-b234-0d6dc8895fde",
   "metadata": {},
   "source": [
    "<img src=\"https://www.bwhpc-c5.de/img/layout/kit_logo_V2.png\" width=\"200\" /> <img src=\"images/HochschuleEsslingen_Logo_RGB_DE.png\" width=\"200\" /> <img src=\"images/Konstanz_Logo.svg\" width=\"200\" /> <img src=\"images/KIT_Logo.png\" width=\"200\" />"
   ]
  },
  {
   "cell_type": "markdown",
   "id": "52807ebb-c7c9-48a7-8b19-35e5ff4a6cce",
   "metadata": {},
   "source": [
    "## Pandas"
   ]
  },
  {
   "cell_type": "markdown",
   "id": "765f24f9-307a-41fd-837b-52fac5a12b65",
   "metadata": {},
   "source": [
    "* Library fuer Datenanalyse\n",
    "* Erstellung von Series und DataFrames\n",
    "* Lesen und Schreiben von Daten zwischen verschiedenen Formaten\n",
    "\n",
    "\n"
   ]
  },
  {
   "cell_type": "markdown",
   "id": "8d857900-d681-43ce-a837-a4bb3c884971",
   "metadata": {},
   "source": [
    "### Pandas-Series\n",
    "* Eindimensional\n",
    "* NumPy-Array hat einen numerischen Index\n",
    "* Pandas-Series kann stattdessen ein Label haben"
   ]
  },
  {
   "cell_type": "markdown",
   "id": "a436b8f3-c2ba-4257-89eb-ea069d1bde77",
   "metadata": {},
   "source": [
    "#### Pandas-Series aus Listen erstellen"
   ]
  },
  {
   "cell_type": "code",
   "execution_count": null,
   "id": "0f557217-addf-4463-8e15-0c9f2b6e902c",
   "metadata": {},
   "outputs": [],
   "source": [
    "import numpy as np\n",
    "import pandas as pd\n",
    "import s3fs\n",
    "\n",
    "index = ['Germany', 'France', 'Netherlands']\n",
    "data = [83000000, 67000000, 17000000]\n",
    "series = pd.Series(data=data) ##Pandas-Series ohne Label erstellen\n",
    "series"
   ]
  },
  {
   "cell_type": "code",
   "execution_count": null,
   "id": "56ca7226-89d6-4890-9bc7-c7a9a20f7355",
   "metadata": {},
   "outputs": [],
   "source": [
    "series = pd.Series(data=data, index=index) ##Pandas-Series mit Label erstellen\n",
    "series"
   ]
  },
  {
   "cell_type": "code",
   "execution_count": null,
   "id": "e5b73f3a-25b7-4536-b486-cbea9bedab35",
   "metadata": {},
   "outputs": [],
   "source": [
    "series[0] ##Zugriff auf erstes Element über Index"
   ]
  },
  {
   "cell_type": "code",
   "execution_count": null,
   "id": "7da4f996-d6ef-43ef-90ba-cec9034241de",
   "metadata": {},
   "outputs": [],
   "source": [
    "series['Germany'] ##Zugriff auf erstes Element über Label"
   ]
  },
  {
   "cell_type": "markdown",
   "id": "8c87ed1a-5f31-4f6a-9f92-8f788038a3cd",
   "metadata": {},
   "source": [
    "#### Pandas-Series aus Python-Dictionary erstellen"
   ]
  },
  {
   "cell_type": "code",
   "execution_count": null,
   "id": "3f4e4e53-99c3-4ddd-8364-7ae4449c7a16",
   "metadata": {},
   "outputs": [],
   "source": [
    "alter = {'Pia':20, 'Felix':26} ##Python-Dictionary\n",
    "pd.Series(alter) ##Konvertierung in Pandas-Series"
   ]
  },
  {
   "cell_type": "markdown",
   "id": "eafe099e-38dd-45a1-8c49-14fe6985b781",
   "metadata": {},
   "source": [
    "#### Operationen auf Pandas Series"
   ]
  },
  {
   "cell_type": "code",
   "execution_count": null,
   "id": "ca8dd892-332f-4ccf-b7f2-3e8fb1219da7",
   "metadata": {},
   "outputs": [],
   "source": [
    "jahr_1990 = {'Germany':70000000, 'France': 50000000, 'Netherlands': 12000000}\n",
    "jahr_2021 = {'Germany':83000000, 'France': 67000000, 'Netherlands': 17000000, 'Greece': 13000000}\n",
    "\n",
    "einwohner_1990 = pd.Series(jahr_1990) ##Konvertierung in Pandas-Series\n",
    "einwohner_2021 = pd.Series(jahr_2021)\n",
    "einwohner_1990 ##Ausgabe der Einwohner im Jahr 1990"
   ]
  },
  {
   "cell_type": "code",
   "execution_count": null,
   "id": "668bae4d-4971-40eb-aae8-8dec93328ba7",
   "metadata": {},
   "outputs": [],
   "source": [
    "einwohner_1990['France'] ##Zugriff über Label"
   ]
  },
  {
   "cell_type": "code",
   "execution_count": null,
   "id": "bcbad682-53c7-42d9-8c78-6c5f9b58ab98",
   "metadata": {},
   "outputs": [],
   "source": [
    "einwohner_1990 / einwohner_2021 ##Division"
   ]
  },
  {
   "cell_type": "code",
   "execution_count": null,
   "id": "448063c1-2e14-45c7-8cf0-c7360b9317ec",
   "metadata": {},
   "outputs": [],
   "source": [
    "einwohner_1990.div(einwohner_2021, fill_value=10000000) ##Fehlenden Wert bei Division nachtragen"
   ]
  },
  {
   "cell_type": "markdown",
   "id": "8373020d-c400-4130-851f-adae81cc7cba",
   "metadata": {},
   "source": [
    "### Pandas DataFrames\n",
    "* Gruppe von Pandas-Series mit gleichem Index\n",
    "\n",
    "<p style=\"text-align: center;\"> Pandas-Series 1: </p>\n",
    "\n",
    "| Index       | Einwohner 2021     |\n",
    "|-------------|----------|\n",
    "| Germany     | 82000000 |\n",
    "| France      | 67000000 |\n",
    "| Netherlands | 17000000 |\n",
    "\n",
    "<p style=\"text-align: center;\"> Pandas-Series 2: </p>\n",
    "\n",
    "| Index       | Einwohner 1990     |\n",
    "|-------------|----------|\n",
    "| Germany     | 70000000 |\n",
    "| France      | 50000000 |\n",
    "| Netherlands | 12000000 |\n",
    "\n",
    "<p style=\"text-align: center;\"> Pandas-Dataframe zusammengesetzt aus vorherigen Pandas-Series: </p>\n",
    "\n",
    "| Index       | Einwohner 1990 | Einwohner 2021 |\n",
    "|-------------|----------|----------|\n",
    "| Germany     | 70000000 | 82000000 |\n",
    "| France      | 50000000 | 67000000 | \n",
    "| Netherlands | 12000000 | 17000000 |"
   ]
  },
  {
   "cell_type": "markdown",
   "id": "f1f18b1e-56a9-48c6-871c-b7432190fc03",
   "metadata": {},
   "source": [
    "#### Pandas-DataFrames aus Python generieren"
   ]
  },
  {
   "cell_type": "code",
   "execution_count": null,
   "id": "8858cd36-5824-42ed-a24e-5a9ad57d2778",
   "metadata": {},
   "outputs": [],
   "source": [
    "np.random.seed(42)\n",
    "data = np.random.randint(0,101,(4,3)) ##Numpy-Array mit zufälligen Werten generieren\n",
    "data"
   ]
  },
  {
   "cell_type": "code",
   "execution_count": null,
   "id": "d8237ee5-cc88-4bcf-8569-c7ba08cd169f",
   "metadata": {},
   "outputs": [],
   "source": [
    "index = ['Berlin', 'BW', 'Bayern', 'Hessen']\n",
    "columns = ['Jan', 'Feb', 'Mar']\n",
    "\n",
    "df = pd.DataFrame(data=data, index=index, columns=columns) ##Pandas DataFrame erstellen\n",
    "df"
   ]
  },
  {
   "cell_type": "code",
   "execution_count": null,
   "id": "c49d2896-500c-4942-a333-26c2c3e98503",
   "metadata": {},
   "outputs": [],
   "source": [
    "df.info() ##Weitere Informationen über DataFrame erhalten"
   ]
  },
  {
   "cell_type": "markdown",
   "id": "681a3f6b-b04d-4a7c-9d0c-488038c4a58e",
   "metadata": {},
   "source": [
    "#### DataFrame aus CSV einlesen"
   ]
  },
  {
   "cell_type": "code",
   "execution_count": null,
   "id": "94a3e3ac-1ed0-4584-b5f4-6ee6db83856a",
   "metadata": {},
   "outputs": [],
   "source": [
    "df = pd.read_csv('s3://nyc-tlc/trip data/green_tripdata_2019-02.csv', nrows=1000) ##CSV aus S3 einlesen; Beschränkung auf 1000 Zeilen\n",
    "df"
   ]
  },
  {
   "cell_type": "code",
   "execution_count": null,
   "id": "0d6df99b-23a8-4952-93a1-3bad6f58f3e5",
   "metadata": {},
   "outputs": [],
   "source": [
    "df.columns ## Spalten anzeigen"
   ]
  },
  {
   "cell_type": "code",
   "execution_count": null,
   "id": "c46c2af9-447f-4fa2-a408-3e08d602c810",
   "metadata": {},
   "outputs": [],
   "source": [
    "df.index ## Index anzeigen"
   ]
  },
  {
   "cell_type": "code",
   "execution_count": null,
   "id": "d9c3c2f7-4238-4751-ad19-d8a3ae32a4d9",
   "metadata": {},
   "outputs": [],
   "source": [
    "df.head(6) ## Zeige erste 6 Elemente"
   ]
  },
  {
   "cell_type": "code",
   "execution_count": null,
   "id": "ca65e3db-e252-4e3d-a908-9cb34badbd66",
   "metadata": {},
   "outputs": [],
   "source": [
    "df.describe().transpose() ## Statistische Übersicht erstellen (Min, Max, Quantile, ....)"
   ]
  },
  {
   "cell_type": "markdown",
   "id": "c861797d-4b39-43a2-9407-b05b6189e70e",
   "metadata": {},
   "source": [
    "#### Arbeiten mit Spalten"
   ]
  },
  {
   "cell_type": "code",
   "execution_count": null,
   "id": "7b76b947-4cd2-4b21-8074-dadfc3309f1f",
   "metadata": {},
   "outputs": [],
   "source": [
    "df['tip_amount'] ## Ausgage einer spezifischen Spalte des DataFrames"
   ]
  },
  {
   "cell_type": "code",
   "execution_count": null,
   "id": "24ad0989-ddce-470c-8a9c-10b6dc3cc510",
   "metadata": {},
   "outputs": [],
   "source": [
    "type(df['tip_amount']) ## Einzelne Spalte eines DataFrames ist eine Series"
   ]
  },
  {
   "cell_type": "code",
   "execution_count": null,
   "id": "3325db47-b58c-4ab1-897e-a9d07da0aae0",
   "metadata": {},
   "outputs": [],
   "source": [
    "cols = ['tip_amount','total_amount']\n",
    "df[cols] ## Mehrere Spalten ausgeben"
   ]
  },
  {
   "cell_type": "code",
   "execution_count": null,
   "id": "007f9ae5-f485-47f1-aa72-bdd1b43b23e3",
   "metadata": {},
   "outputs": [],
   "source": [
    "type(df[cols]) ## Zwei Spsalten eines DataFrames ist wieder ein DataFrame\n"
   ]
  },
  {
   "cell_type": "code",
   "execution_count": null,
   "id": "c9f0a662-46ce-448c-b615-96b5795611c5",
   "metadata": {},
   "outputs": [],
   "source": [
    "100 * df['tip_amount'] / df['total_amount'] ## Prozentualer Anteil des Trinkegelds"
   ]
  },
  {
   "cell_type": "code",
   "execution_count": null,
   "id": "685ec44a-dcaf-4c35-bf7b-2119770a3224",
   "metadata": {},
   "outputs": [],
   "source": [
    "df['tip_percentage'] = 100 * df['tip_amount'] / df['total_amount'] ## Neue Spalte in DataFrame einfügen\n",
    "df.head()"
   ]
  },
  {
   "cell_type": "code",
   "execution_count": null,
   "id": "a592166a-08cd-4db3-ac18-44bc3135e226",
   "metadata": {},
   "outputs": [],
   "source": [
    "df.drop('tip_percentage', axis=1) ## Spalte löschen"
   ]
  },
  {
   "cell_type": "code",
   "execution_count": null,
   "id": "ee1d617e-997c-49ae-a656-991c479c9fc2",
   "metadata": {},
   "outputs": [],
   "source": [
    "df ##'tip_percentage' ist ja noch immer da?!?"
   ]
  },
  {
   "cell_type": "code",
   "execution_count": null,
   "id": "ed00ebb5-629a-441f-8d4d-3a4440566cb7",
   "metadata": {},
   "outputs": [],
   "source": [
    "df = df.drop('tip_percentage', axis=1) ## Hier wird 'tip_percentage' endgültig gelöscht\n",
    "df"
   ]
  },
  {
   "cell_type": "code",
   "execution_count": null,
   "id": "df010db9-5467-4672-b836-fed2a7220ad4",
   "metadata": {},
   "outputs": [],
   "source": [
    "df.shape ## Dimension des DataFrames"
   ]
  },
  {
   "cell_type": "code",
   "execution_count": null,
   "id": "f4bd8a9c-5365-45ba-8c40-f58474a03d43",
   "metadata": {},
   "outputs": [],
   "source": [
    "df.shape[0] ##Index=0 --> Zeilen"
   ]
  },
  {
   "cell_type": "code",
   "execution_count": null,
   "id": "fe10904f-2c06-48e6-9b73-2db17da74b14",
   "metadata": {},
   "outputs": [],
   "source": [
    "df.shape[1] ##Index=1 --> Spalten"
   ]
  },
  {
   "cell_type": "markdown",
   "id": "d23f8ed6-2fbf-44e5-a0f8-871a406764f4",
   "metadata": {},
   "source": [
    "#### Arbeiten mit Zeilen"
   ]
  },
  {
   "cell_type": "code",
   "execution_count": null,
   "id": "6cab1785-d1bd-406a-83de-a1481cb970e0",
   "metadata": {},
   "outputs": [],
   "source": [
    "df.index"
   ]
  },
  {
   "cell_type": "code",
   "execution_count": null,
   "id": "7eff6526-390d-4d2c-a5ab-327dfc5b2ab2",
   "metadata": {},
   "outputs": [],
   "source": [
    "df = df.set_index(\"lpep_pickup_datetime\") ## Index ändern\n",
    "## Achtung: \"lpep_pickup_datetime\" ist jetzt keine Spalte mehr!"
   ]
  },
  {
   "cell_type": "code",
   "execution_count": null,
   "id": "20876f13-a664-4480-8f68-6c79a7111e85",
   "metadata": {},
   "outputs": [],
   "source": [
    "df.head()"
   ]
  },
  {
   "cell_type": "code",
   "execution_count": null,
   "id": "f1e6b9fe-cd50-462c-a9a0-444a7ce65386",
   "metadata": {},
   "outputs": [],
   "source": [
    "df.reset_index() ## Index zurücksetzen"
   ]
  },
  {
   "cell_type": "code",
   "execution_count": null,
   "id": "510ec6e3-df1e-4f24-b8b9-dfd47667ed14",
   "metadata": {},
   "outputs": [],
   "source": [
    "df.iloc[0:6] ##Integer-basiert die ersten 6 Zeilen ausgeben"
   ]
  },
  {
   "cell_type": "code",
   "execution_count": null,
   "id": "68934a91-e32c-4d22-b964-37785f30d258",
   "metadata": {},
   "outputs": [],
   "source": [
    "df.loc[['2019-02-01 00:10:19','2019-02-01 00:02:16']] ## Nur Zeilen mit bestimmtem Datum anzeigen"
   ]
  },
  {
   "cell_type": "code",
   "execution_count": null,
   "id": "97c83c4f-e9f2-40b2-af64-ab9355ce6691",
   "metadata": {},
   "outputs": [],
   "source": [
    "df.drop('2019-02-01 00:10:19', axis=0) ## Einzelne Zeile wegwerfen"
   ]
  },
  {
   "cell_type": "code",
   "execution_count": null,
   "id": "1759a891-55fb-40da-9298-607f23294fa2",
   "metadata": {},
   "outputs": [],
   "source": [
    "row = df.iloc[0] ## Einzelne Zeile selektieren"
   ]
  },
  {
   "cell_type": "code",
   "execution_count": null,
   "id": "13d1bfa5-2e82-451f-a687-98322a3d42dd",
   "metadata": {},
   "outputs": [],
   "source": [
    "row ## Details anzeigen"
   ]
  },
  {
   "cell_type": "code",
   "execution_count": null,
   "id": "32fdfa47-e3e1-451b-8fe2-98610461b25a",
   "metadata": {},
   "outputs": [],
   "source": [
    "df = df.append(row) ## Zeile unten anhängen"
   ]
  },
  {
   "cell_type": "code",
   "execution_count": null,
   "id": "78195caa-7504-427f-8abe-11bb8269dc9f",
   "metadata": {},
   "outputs": [],
   "source": [
    "df"
   ]
  },
  {
   "cell_type": "markdown",
   "id": "80ad9d71-33e9-4c53-a168-76ac9b87b60b",
   "metadata": {},
   "source": [
    "#### Filtern mit Bedingungen"
   ]
  },
  {
   "cell_type": "markdown",
   "id": "2b170a1b-2f6d-4e98-b0f2-4e54c784b739",
   "metadata": {},
   "source": [
    "Jede Spalte nennen wir ein Feature der Daten. Jede Zeile nennen wir eine Instanz der Daten."
   ]
  },
  {
   "cell_type": "code",
   "execution_count": null,
   "id": "b4ce8ebe-9c44-4e35-87f3-456338189d96",
   "metadata": {},
   "outputs": [],
   "source": [
    "df = pd.read_csv('s3://nyc-tlc/trip data/green_tripdata_2019-02.csv', nrows=1000) ##Neu einlesen"
   ]
  },
  {
   "cell_type": "code",
   "execution_count": null,
   "id": "1b0a78cf-3564-4a82-be6a-71f4984ec9e6",
   "metadata": {},
   "outputs": [],
   "source": [
    "df[\"tip_amount\"] > 3 ##Wo ist 'tip_amount' größer 3?"
   ]
  },
  {
   "cell_type": "code",
   "execution_count": null,
   "id": "2fe7db9a-5746-46da-bf63-d42cd9a4e60b",
   "metadata": {},
   "outputs": [],
   "source": [
    "var1 = df[\"tip_amount\"] > 3 ## Neue Variable einführen mit Boolean"
   ]
  },
  {
   "cell_type": "code",
   "execution_count": null,
   "id": "6aca09b6-d5ff-4562-997b-f8d488a4174f",
   "metadata": {},
   "outputs": [],
   "source": [
    "df[var1] ## DataFrame wird gefiltert"
   ]
  },
  {
   "cell_type": "code",
   "execution_count": null,
   "id": "e3ef394a-5466-4edb-b0ab-2c9436617c7b",
   "metadata": {},
   "outputs": [],
   "source": [
    "df[(df[\"tip_amount\"] > 3) & (df[\"total_amount\"] > 40)] ## Filtern in einer Zeile"
   ]
  },
  {
   "cell_type": "code",
   "execution_count": null,
   "id": "91d42eee-102d-4dbc-b0ab-85811a60f750",
   "metadata": {},
   "outputs": [],
   "source": [
    "filter = [2,5] ## Filter, der nur 2 und 5 auswählt\n",
    "df['passenger_count'].isin(filter).iloc[500:510]"
   ]
  },
  {
   "cell_type": "code",
   "execution_count": null,
   "id": "28b11d3c-b6bd-4208-9bff-f04d48d8e30e",
   "metadata": {},
   "outputs": [],
   "source": [
    "df.iloc[501] ## 501 ist false da 'passenger_count'=1 und nicht 2 oder 5"
   ]
  },
  {
   "cell_type": "code",
   "execution_count": null,
   "id": "267bd0d1-d2da-4f2d-9d40-3bafaf565d8d",
   "metadata": {},
   "outputs": [],
   "source": [
    "df.head()"
   ]
  },
  {
   "cell_type": "code",
   "execution_count": null,
   "id": "fc9b43c0-f220-4267-8a29-55e644ee5a07",
   "metadata": {},
   "outputs": [],
   "source": [
    "df.info() ## Informationen über Typen"
   ]
  },
  {
   "cell_type": "code",
   "execution_count": null,
   "id": "59fcf95e-3aa4-47fa-b7c7-0be73785daae",
   "metadata": {},
   "outputs": [],
   "source": [
    "def last_two(number): ## Letzte 2 Zahlen jeder Zeile einer Spalte ausgeben\n",
    "    return int(str(number)[-2:])"
   ]
  },
  {
   "cell_type": "code",
   "execution_count": null,
   "id": "395bc3ce-3963-44b5-bdc9-fc1c4dad1170",
   "metadata": {},
   "outputs": [],
   "source": [
    "last_two(1234567)"
   ]
  },
  {
   "cell_type": "code",
   "execution_count": null,
   "id": "0b7a4127-de7b-4e05-b1c0-36bde9d8333a",
   "metadata": {},
   "outputs": [],
   "source": [
    "df['PULocationID'].apply(last_two) ##Anwenden auf Spalte in DataFrame"
   ]
  },
  {
   "cell_type": "code",
   "execution_count": null,
   "id": "35ba351a-b385-4136-91e4-2122fdea1b5f",
   "metadata": {},
   "outputs": [],
   "source": [
    "df['PULocationID_last_two'] = df['PULocationID'].apply(last_two)"
   ]
  },
  {
   "cell_type": "code",
   "execution_count": null,
   "id": "5d91f40b-a15e-41d5-b8ed-b47afb34c470",
   "metadata": {},
   "outputs": [],
   "source": [
    "df.head()"
   ]
  },
  {
   "cell_type": "code",
   "execution_count": null,
   "id": "ca370776-8938-4b0a-8949-9a62f965bf86",
   "metadata": {},
   "outputs": [],
   "source": [
    "df['total_amount'].mean()"
   ]
  },
  {
   "cell_type": "code",
   "execution_count": null,
   "id": "1e3e4fac-b33b-48f4-8867-aee47670df31",
   "metadata": {},
   "outputs": [],
   "source": []
  },
  {
   "cell_type": "code",
   "execution_count": null,
   "id": "f11da157-4843-44f9-b5e1-80c7424f6652",
   "metadata": {},
   "outputs": [],
   "source": []
  }
 ],
 "metadata": {
  "kernelspec": {
   "display_name": "Python 3 (ipykernel)",
   "language": "python",
   "name": "python3"
  },
  "language_info": {
   "codemirror_mode": {
    "name": "ipython",
    "version": 3
   },
   "file_extension": ".py",
   "mimetype": "text/x-python",
   "name": "python",
   "nbconvert_exporter": "python",
   "pygments_lexer": "ipython3",
   "version": "3.8.0"
  }
 },
 "nbformat": 4,
 "nbformat_minor": 5
}
