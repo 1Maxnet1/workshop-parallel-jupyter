{
 "cells": [
  {
   "cell_type": "markdown",
   "id": "131d9420-bd7e-4d50-a69c-0208ef3328eb",
   "metadata": {},
   "source": [
    "# Machine Learning"
   ]
  },
  {
   "cell_type": "markdown",
   "id": "9a7930f8-ff17-4042-825d-4dffb15b9b42",
   "metadata": {},
   "source": [
    "Algorithmen die sich durch das Nutzen von Daten automatisch optimieren\n",
    "\n",
    "Welche Probleme können mit ML gelöst werden?\n",
    "\n",
    "Kreditwürdigkeit, Preisvorhersagen, Spamfilter, ..."
   ]
  },
  {
   "cell_type": "markdown",
   "id": "54077fe2-aae4-43b6-9ff2-ec35db9b4ba4",
   "metadata": {},
   "source": [
    "## Supervised Learning"
   ]
  },
  {
   "cell_type": "markdown",
   "id": "624a8a86-ca5a-4e2f-a031-4de08460dfbf",
   "metadata": {},
   "source": [
    " - Man kennt Daten aus der Vergangenheit (Quadratmeter von Haus, Anzahl Zimmer, Garten vorhanden, ...)\n",
    " - Labeled: Man kennt den gewuenschten Output (Man kennt z.B. Preis zu dem Haus in Vergangenheit verkauft wurde. Man will neuen Verkaufspreis schaetzen)\n",
    " - Regression Task: Label das man vorhersagen will ist kontinuierlich (z.B. Euro-Preis)\n",
    " - Classification Task: Einordnen in eine bestimmte Kategorie (Handschrifterkennung)"
   ]
  },
  {
   "cell_type": "markdown",
   "id": "71ca7e66-8b40-4ae4-92dc-f58e76976afe",
   "metadata": {},
   "source": [
    "## (Unsupervised Leanrning)"
   ]
  },
  {
   "cell_type": "markdown",
   "id": "05e89655-e1d0-4fbf-b215-cc5664580b30",
   "metadata": {},
   "source": [
    " - Daten gruppieren ohne vorhandenes Label"
   ]
  },
  {
   "cell_type": "markdown",
   "id": "c83b9064-09db-4ce4-956a-8f084e89df66",
   "metadata": {},
   "source": [
    "## Unterteilung der Daten\n",
    "- y: Label (Wert den wir vorhersagen wollen, z.B. Preis einer Taxifahrt)\n",
    "- X: Features (Daten die zur Schaetzung herangezogen werden)\n",
    "\n",
    "### Training-Datensatz vs. Test-Datensatz\n",
    "- Messen der Zuverlaessigkeit des trainierten Modells\n",
    "- Trainieren mit Tainingsdatensatz und Verifizierung durch Testdatensatz"
   ]
  },
  {
   "cell_type": "markdown",
   "id": "5b138265-32fa-4711-982a-f48a91bdffd1",
   "metadata": {},
   "source": [
    "# Linear Regression"
   ]
  },
  {
   "cell_type": "markdown",
   "id": "ffa8c55c-615f-4ac5-8ee8-7b33911202e1",
   "metadata": {},
   "source": [
    "- Wurde frueher verwendet um besser anhand der Sterne zu navigieren\n",
    "- 1722: Roger Cotes erkennt dass das Kombinieren von verschiedenen Beobachtungen zu besseren Ergebnissen fuehrt\n",
    "- 1805: Adrien-Marie Legendre veroeffentlicht Methode der kleinsten Quadrate"
   ]
  },
  {
   "cell_type": "code",
   "execution_count": null,
   "id": "53f8f426-b63f-4ac6-8a1a-356c6323b225",
   "metadata": {},
   "outputs": [],
   "source": []
  }
 ],
 "metadata": {
  "kernelspec": {
   "display_name": "",
   "name": ""
  },
  "language_info": {
   "name": ""
  }
 },
 "nbformat": 4,
 "nbformat_minor": 5
}
