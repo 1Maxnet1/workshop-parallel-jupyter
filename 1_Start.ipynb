{
 "cells": [
  {
   "cell_type": "markdown",
   "id": "04241271",
   "metadata": {},
   "source": [
    "# Data Science with Python on HPC"
   ]
  },
  {
   "cell_type": "markdown",
   "id": "b5564fe2",
   "metadata": {},
   "source": [
    "\n",
    "<img src=\"https://www.bwhpc-c5.de/img/layout/kit_logo_V2.png\" width=\"200\" /> <img src=\"https://upload.wikimedia.org/wikipedia/commons/thumb/f/f8/Python_logo_and_wordmark.svg/1200px-Python_logo_and_wordmark.svg.png\" width=\"200\" /> <img src=\"https://upload.wikimedia.org/wikipedia/commons/thumb/e/ed/Pandas_logo.svg/1200px-Pandas_logo.svg.png\" width=\"200\" /> <img src=\"https://upload.wikimedia.org/wikipedia/commons/thumb/3/31/NumPy_logo_2020.svg/2880px-NumPy_logo_2020.svg.png\" width=\"200\" /> <img src=\"https://upload.wikimedia.org/wikipedia/commons/thumb/0/05/Scikit_learn_logo_small.svg/1280px-Scikit_learn_logo_small.svg.png\" width=\"200\" /> <img src=\"https://user-images.githubusercontent.com/315810/92254578-1bb0be00-ee9f-11ea-986a-fd875f2eadc6.png\" width=\"200\" /> \n"
   ]
  },
  {
   "cell_type": "markdown",
   "id": "89e79e4e",
   "metadata": {},
   "source": [
    "## Aufgaben eines ML Engineers\n",
    "![title](images/ml_pathway.png)"
   ]
  },
  {
   "cell_type": "markdown",
   "id": "cdfb4139-3331-4699-ad6e-43fe9cf70e4a",
   "metadata": {},
   "source": [
    "## Jupyter auf bwUniCluster\n",
    "\n",
    "Für die Nutzung von Jupyter auf bwUniCluster muss ein Zugang zum Cluster existieren.\n",
    "\n",
    "Anleitung zum Einrichten eines Zugangs:\n",
    "\n",
    "https://wiki.bwhpc.de/e/BwUniCluster_2.0_User_Access\n",
    "\n",
    "Link für die Registrierung:\n",
    "\n",
    "https://bwidm.scc.kit.edu/\n",
    "\n",
    "Um Jupyter starten zu können muss auf dem bwUniCluster ein HOME-Laufwerk eingerichtet sein. Hierfür muss ein erfolgreicher Login über SSH erfolgt sein. Beim Login wird das entsprechende Verzeichnis automatisch angelegt.\n",
    "\n",
    "SSH-Befehl für den Login auf bwUniCluster:\n",
    "\n",
    "```bash\n",
    "ssh <Hochschulkürzel>_<User-ID>@bwunicluster.scc.kit.edu\n",
    "```\n",
    "\n",
    "Beispiel: es_mmuster@bwunicluster.scc.kit.edu\n",
    "\n",
    "Nach erfolgreichem Login kann direkt per exit-Befehl:\n",
    "\n",
    "```bash\n",
    "exit\n",
    "```\n",
    "\n",
    "Anschließend kann die Jupyter-Website geöffnet werden. Dies ist nur aus dem Netz der beteiligten Hochschulen heraus möglich (VPN Zugang erforderllich).\n",
    "\n",
    "Link zu Jupyter auf bwUniCluster:\n",
    "\n",
    "https://uc2-jupyter.scc.kit.edu/"
   ]
  },
  {
   "cell_type": "markdown",
   "id": "29fbf9f3-d8fc-4939-abe3-cc7230ac4aae",
   "metadata": {},
   "source": [
    "### Ressourcenauswahl (Job-Parameter)\n",
    "\n",
    "Zum Starten einer Jupyter-Instanz wird ein interaktiver Job generiert, der Ressourcen auf bwUniCluster reserviert. Welche Ressourcen wie lange reserviert werden, kann im Menu beim Starten der Instanz ausgewählt werden.\n",
    "\n",
    "![title](images/bwUniCluster_Jupyter_Select_Ressources.png)\n",
    "\n",
    "Wir werden im Workshop später Dask benutzen, um aus einer Jupyter-Instanz heraus weitere Jobs zu starten. Daher reicht uns für die initiale Instanz ein einzelner Core für 4 Stunden mit einer Partition (4GB Memory) und dem einfachen Basemodule:\n",
    "\n",
    "![title](images/bwUniCluster_Jupyter_Select_Ressources2.png)\n",
    "\n",
    "Nach Klick auf Spawn wird der generierte Job submitted und die für den Job benötigten Ressourcen angefordert. Je nach aktueller Auslastung des Clusters und dem für die jeweilige Hochschule noch verfügbaren Kontingent kann dieser Vorgang unterschiedlich viel Zeit erfordern. Während die Ressourcen angefordert werden, wird folgender Text angezeigt:\n",
    "\n",
    "![title](images/bwUniCluster_Jupyter_Pending.png)"
   ]
  },
  {
   "cell_type": "code",
   "execution_count": null,
   "id": "ae8d3109-a01c-4474-bb12-3869974d16c4",
   "metadata": {},
   "outputs": [],
   "source": []
  }
 ],
 "metadata": {
  "kernelspec": {
   "display_name": "Python 3 (ipykernel)",
   "language": "python",
   "name": "python3"
  },
  "language_info": {
   "codemirror_mode": {
    "name": "ipython",
    "version": 3
   },
   "file_extension": ".py",
   "mimetype": "text/x-python",
   "name": "python",
   "nbconvert_exporter": "python",
   "pygments_lexer": "ipython3",
   "version": "3.8.10"
  }
 },
 "nbformat": 4,
 "nbformat_minor": 5
}
