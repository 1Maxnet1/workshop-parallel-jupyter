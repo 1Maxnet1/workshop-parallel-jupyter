{
 "cells": [
  {
   "cell_type": "markdown",
   "id": "78c21dc4-8035-4561-958a-96081c0838c3",
   "metadata": {},
   "source": [
    "```bash\n",
    "wget https://repo.anaconda.com/miniconda/Miniconda3-latest-Linux-x86_64.sh\n",
    "\n",
    "chmod +x Miniconda3-latest-Linux-x86_64.sh\n",
    "\n",
    "./Miniconda3-latest-Linux-x86_64.sh\n",
    "\n",
    "Please, press ENTER to continue\n",
    "```\n",
    "\n",
    "Einmal Leertaste drücken.\n",
    "\n",
    "```bash\n",
    "Please answer 'yes' or 'no':'\n",
    ">>> yes\n",
    "\n",
    "Press ENTER to confirm the location\n",
    "\n",
    "Do you wish the installer to initialize Miniconda3\n",
    "by running conda init? [yes|no]\n",
    "[no] >>> yes\n",
    "\n",
    "conda config --set auto_activate_base false\n",
    "\n",
    "conda create -n python_workshop_env python=3\n",
    "\n",
    "Proceed ([y]/n)? y\n",
    "\n",
    ". ~/.bashrc\n",
    "\n",
    "conda activate python_workshop_env\n",
    "\n",
    "conda install s3fs bokeh dask ipykernel numpy pandas \"dask[distributed]\" mpi4py\n",
    "\n",
    "Proceed ([y]/n)? y\n",
    "\n",
    "conda install -c conda-forge dask-mpi\n",
    "```\n"
   ]
  }
 ],
 "metadata": {
  "kernelspec": {
   "display_name": "workshop",
   "language": "python",
   "name": "workshop"
  },
  "language_info": {
   "codemirror_mode": {
    "name": "ipython",
    "version": 3
   },
   "file_extension": ".py",
   "mimetype": "text/x-python",
   "name": "python",
   "nbconvert_exporter": "python",
   "pygments_lexer": "ipython3",
   "version": "3.6.8"
  }
 },
 "nbformat": 4,
 "nbformat_minor": 5
}
